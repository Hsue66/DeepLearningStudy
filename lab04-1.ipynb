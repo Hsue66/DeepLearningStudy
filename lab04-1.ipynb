{
 "cells": [
  {
   "cell_type": "code",
   "execution_count": 1,
   "metadata": {
    "collapsed": true,
    "deletable": true,
    "editable": true
   },
   "outputs": [],
   "source": [
    " import tensorflow as tf"
   ]
  },
  {
   "cell_type": "code",
   "execution_count": 3,
   "metadata": {
    "collapsed": false,
    "deletable": true,
    "editable": true
   },
   "outputs": [],
   "source": [
    "# multi 입력 데이터\n",
    "x1_data = [73.,93.,89.,96.,73.]\n",
    "x2_data = [80.,88.,91.,98.,66.]\n",
    "x3_data = [75.,93.,90.,100.,70.]\n",
    "y_data = [152.,185.,180.,196.,142.]\n",
    "\n",
    "x1 = tf.placeholder(tf.float32)\n",
    "x2 = tf.placeholder(tf.float32)\n",
    "x3 = tf.placeholder(tf.float32)\n",
    "Y = tf.placeholder(tf.float32)\n",
    "\n",
    "w1 = tf.Variable(tf.random_normal([1]), name=\"weight1\")\n",
    "w2 = tf.Variable(tf.random_normal([1]), name=\"weight2\")\n",
    "w3 = tf.Variable(tf.random_normal([1]), name=\"weight3\")\n",
    "b = tf.Variable(tf.random_normal([1]), name=\"bias\")"
   ]
  },
  {
   "cell_type": "code",
   "execution_count": 4,
   "metadata": {
    "collapsed": true,
    "deletable": true,
    "editable": true
   },
   "outputs": [],
   "source": [
    "hypothesis = x1*w1 + x2*w2 + x3*w3 + b\n",
    "\n",
    "cost = tf.reduce_mean(tf.square(hypothesis-Y))\n",
    "\n",
    "optimizer = tf.train.GradientDescentOptimizer(1e-5)\n",
    "train = optimizer.minimize(cost)"
   ]
  },
  {
   "cell_type": "code",
   "execution_count": 6,
   "metadata": {
    "collapsed": false,
    "deletable": true,
    "editable": true
   },
   "outputs": [
    {
     "name": "stdout",
     "output_type": "stream",
     "text": [
      "0 cost:  44316.8 \n",
      "Prediction:  [-31.82452774 -42.28935623 -39.4961853  -43.33450317 -33.13501358]\n",
      "100 cost:  7.03718 \n",
      "Prediction:  [ 154.84931946  182.26977539  181.66651917  197.51539612  138.18693542]\n",
      "200 cost:  6.68374 \n",
      "Prediction:  [ 154.75091553  182.33743286  181.63659668  197.49180603  138.27737427]\n",
      "300 cost:  6.34887 \n",
      "Prediction:  [ 154.65515137  182.40327454  181.60749817  197.46881104  138.36543274]\n",
      "400 cost:  6.03162 \n",
      "Prediction:  [ 154.56195068  182.46734619  181.57919312  197.44638062  138.45115662]\n",
      "500 cost:  5.73108 \n",
      "Prediction:  [ 154.47129822  182.52970886  181.55168152  197.42453003  138.53463745]\n",
      "600 cost:  5.44634 \n",
      "Prediction:  [ 154.38308716  182.59039307  181.52488708  197.4032135   138.61590576]\n",
      "700 cost:  5.17663 \n",
      "Prediction:  [ 154.29724121  182.64941406  181.49882507  197.38243103  138.69500732]\n",
      "800 cost:  4.92109 \n",
      "Prediction:  [ 154.21372986  182.7068634   181.47349548  197.36216736  138.77204895]\n",
      "900 cost:  4.67898 \n",
      "Prediction:  [ 154.13244629  182.76277161  181.44882202  197.34240723  138.84703064]\n",
      "1000 cost:  4.44957 \n",
      "Prediction:  [ 154.05335999  182.81718445  181.42483521  197.32313538  138.9200592 ]\n",
      "1100 cost:  4.23229 \n",
      "Prediction:  [ 153.97642517  182.87011719  181.40150452  197.30433655  138.99113464]\n",
      "1200 cost:  4.02641 \n",
      "Prediction:  [ 153.90156555  182.92163086  181.37879944  197.286026    139.06034851]\n",
      "1300 cost:  3.83134 \n",
      "Prediction:  [ 153.82873535  182.97177124  181.35673523  197.26815796  139.12776184]\n",
      "1400 cost:  3.64656 \n",
      "Prediction:  [ 153.75787354  183.02055359  181.33528137  197.25074768  139.19337463]\n",
      "1500 cost:  3.47148 \n",
      "Prediction:  [ 153.68890381  183.06799316  181.31437683  197.23373413  139.25724792]\n",
      "1600 cost:  3.3056 \n",
      "Prediction:  [ 153.62181091  183.11418152  181.29406738  197.21713257  139.31944275]\n",
      "1700 cost:  3.1484 \n",
      "Prediction:  [ 153.55654907  183.15913391  181.27429199  197.20097351  139.3800354 ]\n",
      "1800 cost:  2.99949 \n",
      "Prediction:  [ 153.49302673  183.2028656   181.25508118  197.18518066  139.43899536]\n",
      "1900 cost:  2.85839 \n",
      "Prediction:  [ 153.4312439   183.2454071   181.2363739   197.16978455  139.49642944]\n",
      "2000 cost:  2.72472 \n",
      "Prediction:  [ 153.37112427  183.2868042   181.21820068  197.15478516  139.55233765]\n"
     ]
    }
   ],
   "source": [
    "sess = tf.Session()\n",
    "\n",
    "sess.run(tf.global_variables_initializer())\n",
    "\n",
    "for step in range(2001):\n",
    "    cost_val, hy_val, _ = sess.run([cost,hypothesis,train],{x1:x1_data, x2:x2_data, x3:x3_data, Y:y_data})\n",
    "    if step % 100 == 0:\n",
    "        print step, \"cost: \",cost_val, \"\\nPrediction: \",hy_val"
   ]
  },
  {
   "cell_type": "code",
   "execution_count": null,
   "metadata": {
    "collapsed": true,
    "deletable": true,
    "editable": true
   },
   "outputs": [],
   "source": []
  }
 ],
 "metadata": {
  "kernelspec": {
   "display_name": "Python 2",
   "language": "python",
   "name": "python2"
  },
  "language_info": {
   "codemirror_mode": {
    "name": "ipython",
    "version": 2
   },
   "file_extension": ".py",
   "mimetype": "text/x-python",
   "name": "python",
   "nbconvert_exporter": "python",
   "pygments_lexer": "ipython2",
   "version": "2.7.12"
  }
 },
 "nbformat": 4,
 "nbformat_minor": 2
}
