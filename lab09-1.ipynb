{
 "cells": [
  {
   "cell_type": "code",
   "execution_count": 1,
   "metadata": {
    "collapsed": true
   },
   "outputs": [],
   "source": [
    "import tensorflow as tf\n",
    "import numpy as np"
   ]
  },
  {
   "cell_type": "code",
   "execution_count": 2,
   "metadata": {
    "collapsed": false
   },
   "outputs": [],
   "source": [
    "x_data = np.array([[0,0],[0,1],[1,0],[1,1]], dtype=np.float32)\n",
    "y_data = np.array([[0],[1],[1],[0]], dtype=np.float32)"
   ]
  },
  {
   "cell_type": "code",
   "execution_count": 3,
   "metadata": {
    "collapsed": false
   },
   "outputs": [],
   "source": [
    "X = tf.placeholder(tf.float32)\n",
    "Y = tf.placeholder(tf.float32)\n",
    "\n",
    "W = tf.Variable(tf.random_normal([2,1]))\n",
    "b = tf.Variable(tf.random_normal([1]))"
   ]
  },
  {
   "cell_type": "code",
   "execution_count": 4,
   "metadata": {
    "collapsed": true
   },
   "outputs": [],
   "source": [
    "hypothesis = tf.sigmoid(tf.matmul(X,W)+b)\n",
    "\n",
    "cost = -tf.reduce_mean(Y*tf.log(hypothesis)+(1-Y)*tf.log(1-hypothesis))\n",
    "train = tf.train.GradientDescentOptimizer(0.1).minimize(cost)"
   ]
  },
  {
   "cell_type": "code",
   "execution_count": 5,
   "metadata": {
    "collapsed": true
   },
   "outputs": [],
   "source": [
    "predicted = tf.cast(hypothesis>0.5, dtype=tf.float32)\n",
    "accuracy = tf.reduce_mean(tf.cast(tf.equal(predicted,Y),dtype=tf.float32))"
   ]
  },
  {
   "cell_type": "code",
   "execution_count": 6,
   "metadata": {
    "collapsed": false
   },
   "outputs": [
    {
     "name": "stdout",
     "output_type": "stream",
     "text": [
      "0 0.790718 [[ 0.53730214]\n",
      " [-1.63944089]]\n",
      "1000 0.693158 [[-0.01012387]\n",
      " [-0.01447186]]\n",
      "2000 0.693147 [[-0.00023727]\n",
      " [-0.00024549]]\n",
      "3000 0.693147 [[ -4.71474732e-06]\n",
      " [ -4.72750889e-06]]\n",
      "4000 0.693147 [[ -1.23687926e-07]\n",
      " [ -1.23039570e-07]]\n",
      "5000 0.693147 [[ -1.23687926e-07]\n",
      " [ -1.23039570e-07]]\n",
      "6000 0.693147 [[ -1.23687926e-07]\n",
      " [ -1.23039570e-07]]\n",
      "7000 0.693147 [[ -1.23687926e-07]\n",
      " [ -1.23039570e-07]]\n",
      "8000 0.693147 [[ -1.23687926e-07]\n",
      " [ -1.23039570e-07]]\n",
      "9000 0.693147 [[ -1.23687926e-07]\n",
      " [ -1.23039570e-07]]\n",
      "10000 0.693147 [[ -1.23687926e-07]\n",
      " [ -1.23039570e-07]]\n",
      "[[ 0.5]\n",
      " [ 0.5]\n",
      " [ 0.5]\n",
      " [ 0.5]] 0.693147 0.5\n"
     ]
    }
   ],
   "source": [
    "with tf.Session() as sess:\n",
    "    sess.run(tf.global_variables_initializer())\n",
    "    for step in range(10001):\n",
    "        sess.run(train, {X:x_data, Y:y_data})\n",
    "        if step%1000 == 0:\n",
    "            print step, sess.run(cost,{X:x_data, Y:y_data}), sess.run(W)\n",
    "            \n",
    "    h,c,a = sess.run([hypothesis,cost,accuracy],{X:x_data, Y:y_data})\n",
    "    print h, c, a"
   ]
  },
  {
   "cell_type": "code",
   "execution_count": null,
   "metadata": {
    "collapsed": true
   },
   "outputs": [],
   "source": []
  }
 ],
 "metadata": {
  "kernelspec": {
   "display_name": "Python 2",
   "language": "python",
   "name": "python2"
  },
  "language_info": {
   "codemirror_mode": {
    "name": "ipython",
    "version": 2
   },
   "file_extension": ".py",
   "mimetype": "text/x-python",
   "name": "python",
   "nbconvert_exporter": "python",
   "pygments_lexer": "ipython2",
   "version": "2.7.12"
  }
 },
 "nbformat": 4,
 "nbformat_minor": 2
}
