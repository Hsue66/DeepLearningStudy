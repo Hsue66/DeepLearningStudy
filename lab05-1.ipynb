{
 "cells": [
  {
   "cell_type": "code",
   "execution_count": 1,
   "metadata": {
    "collapsed": true
   },
   "outputs": [],
   "source": [
    "import tensorflow as tf"
   ]
  },
  {
   "cell_type": "code",
   "execution_count": 2,
   "metadata": {
    "collapsed": true
   },
   "outputs": [],
   "source": [
    "x_data = [[1,2],\n",
    "          [2,3],\n",
    "          [3,1],\n",
    "          [4,3],\n",
    "          [5,3],\n",
    "          [6,2]]\n",
    "y_data = [[0],[0],[0],[1],[1],[1]]\n",
    "\n",
    "X = tf.placeholder(tf.float32, shape=[None,2])\n",
    "Y = tf.placeholder(tf.float32, shape=[None,1])\n",
    "\n",
    "W = tf.Variable(tf.random_normal([2,1]), name='weight')\n",
    "b = tf.Variable(tf.random_normal([1]), name='bias')"
   ]
  },
  {
   "cell_type": "code",
   "execution_count": 3,
   "metadata": {
    "collapsed": false
   },
   "outputs": [],
   "source": [
    "hypothesis = tf.sigmoid(tf.matmul(X,W)+b)\n",
    "\n",
    "cost = - tf.reduce_mean(Y*tf.log(hypothesis) + (1-Y)*tf.log(1-hypothesis))\n",
    "\n",
    "train = tf.train.GradientDescentOptimizer(learning_rate=0.01).minimize(cost)\n",
    "\n",
    "predicted = tf.cast(hypothesis>0.5, dtype=tf.float32)\n",
    "accuracy = tf.reduce_mean(tf.cast(tf.equal(predicted,Y), dtype=tf.float32))"
   ]
  },
  {
   "cell_type": "code",
   "execution_count": 4,
   "metadata": {
    "collapsed": false
   },
   "outputs": [
    {
     "name": "stdout",
     "output_type": "stream",
     "text": [
      "0 0.975977\n",
      "200 0.668374\n",
      "400 0.548587\n",
      "600 0.493292\n",
      "800 0.461202\n",
      "1000 0.438625\n",
      "1200 0.420556\n",
      "1400 0.40494\n",
      "1600 0.390848\n",
      "1800 0.377827\n",
      "2000 0.365638\n",
      "2200 0.354146\n",
      "2400 0.343268\n",
      "2600 0.332946\n",
      "2800 0.323137\n",
      "3000 0.313808\n",
      "3200 0.304929\n",
      "3400 0.296473\n",
      "3600 0.288415\n",
      "3800 0.280733\n",
      "4000 0.273405\n",
      "4200 0.266412\n",
      "4400 0.259734\n",
      "4600 0.253354\n",
      "4800 0.247255\n",
      "5000 0.24142\n",
      "5200 0.235836\n",
      "5400 0.230488\n",
      "5600 0.225363\n",
      "5800 0.220448\n",
      "6000 0.215733\n",
      "6200 0.211206\n",
      "6400 0.206858\n",
      "6600 0.202678\n",
      "6800 0.198658\n",
      "7000 0.194789\n",
      "7200 0.191065\n",
      "7400 0.187476\n",
      "7600 0.184017\n",
      "7800 0.180681\n",
      "8000 0.177461\n",
      "8200 0.174353\n",
      "8400 0.17135\n",
      "8600 0.168448\n",
      "8800 0.165642\n",
      "9000 0.162928\n",
      "9200 0.1603\n",
      "9400 0.157756\n",
      "9600 0.155291\n",
      "9800 0.152902\n",
      "10000 0.150586\n",
      "[[ 0.03120023]\n",
      " [ 0.15946582]\n",
      " [ 0.30705974]\n",
      " [ 0.78038222]\n",
      " [ 0.93894303]\n",
      " [ 0.97995698]] [[ 0.]\n",
      " [ 0.]\n",
      " [ 0.]\n",
      " [ 1.]\n",
      " [ 1.]\n",
      " [ 1.]] 1.0\n"
     ]
    }
   ],
   "source": [
    "with tf.Session() as sess:\n",
    "    sess.run(tf.global_variables_initializer())\n",
    "    \n",
    "    for step in range(10001):\n",
    "        cost_val,_ = sess.run([cost, train],{X: x_data, Y:y_data})\n",
    "        if step%200 ==0 :\n",
    "            print step, cost_val;\n",
    "            \n",
    "    h,c,a = sess.run([hypothesis, predicted, accuracy], {X:x_data, Y:y_data})\n",
    "    print h, c, a"
   ]
  },
  {
   "cell_type": "code",
   "execution_count": null,
   "metadata": {
    "collapsed": true
   },
   "outputs": [],
   "source": []
  }
 ],
 "metadata": {
  "kernelspec": {
   "display_name": "Python 2",
   "language": "python",
   "name": "python2"
  },
  "language_info": {
   "codemirror_mode": {
    "name": "ipython",
    "version": 2
   },
   "file_extension": ".py",
   "mimetype": "text/x-python",
   "name": "python",
   "nbconvert_exporter": "python",
   "pygments_lexer": "ipython2",
   "version": "2.7.12"
  }
 },
 "nbformat": 4,
 "nbformat_minor": 2
}
