{
 "cells": [
  {
   "cell_type": "code",
   "execution_count": 1,
   "metadata": {},
   "outputs": [],
   "source": [
    "import torch\n",
    "import torch.nn as nn"
   ]
  },
  {
   "cell_type": "code",
   "execution_count": 2,
   "metadata": {},
   "outputs": [],
   "source": [
    "h = [1, 0, 0, 0]\n",
    "e = [0, 1, 0, 0]\n",
    "l = [0, 0, 1, 0]\n",
    "o = [0, 0, 0, 1]"
   ]
  },
  {
   "cell_type": "code",
   "execution_count": 3,
   "metadata": {},
   "outputs": [
    {
     "name": "stdout",
     "output_type": "stream",
     "text": [
      "tensor([[[-0.6523, -0.7286]]]) tensor([[[-0.6523, -0.7286]]])\n",
      "one input size torch.Size([1, 1, 4]) out size torch.Size([1, 1, 2])\n",
      "tensor([[[ 0.2867,  0.6830]]]) tensor([[[ 0.2867,  0.6830]]])\n",
      "one input size torch.Size([1, 1, 4]) out size torch.Size([1, 1, 2])\n",
      "tensor([[[ 0.1920, -0.0193]]]) tensor([[[ 0.1920, -0.0193]]])\n",
      "one input size torch.Size([1, 1, 4]) out size torch.Size([1, 1, 2])\n",
      "tensor([[[ 0.2510,  0.2477]]]) tensor([[[ 0.2510,  0.2477]]])\n",
      "one input size torch.Size([1, 1, 4]) out size torch.Size([1, 1, 2])\n",
      "tensor([[[-0.1603, -0.2300]]]) tensor([[[-0.1603, -0.2300]]])\n",
      "one input size torch.Size([1, 1, 4]) out size torch.Size([1, 1, 2])\n"
     ]
    }
   ],
   "source": [
    "cell = nn.RNN(input_size=4, hidden_size=2, batch_first= True)\n",
    "\n",
    "inputs = torch.Tensor([h,e,l,l,o])\n",
    "hidden = torch.randn(1,1,2)\n",
    "\n",
    "for one in inputs:\n",
    "    one = one.view(1,1,-1)\n",
    "    out, hidden = cell(one, hidden)\n",
    "    print(out, hidden)\n",
    "    print(\"one input size\", one.size(), \"out size\", out.size())"
   ]
  },
  {
   "cell_type": "code",
   "execution_count": 5,
   "metadata": {},
   "outputs": [
    {
     "name": "stdout",
     "output_type": "stream",
     "text": [
      "tensor([[[ 1.,  0.,  0.,  0.],\n",
      "         [ 0.,  1.,  0.,  0.],\n",
      "         [ 0.,  0.,  1.,  0.],\n",
      "         [ 0.,  0.,  1.,  0.],\n",
      "         [ 0.,  0.,  0.,  1.]]])\n",
      "sequence input size torch.Size([1, 5, 4]) out size torch.Size([1, 5, 2])\n"
     ]
    }
   ],
   "source": [
    "inputs = inputs.view(1,5,-1)\n",
    "print(inputs)\n",
    "out, hidden = cell(inputs, hidden)\n",
    "print(\"sequence input size\",inputs.size(), \"out size\",out.size())"
   ]
  },
  {
   "cell_type": "code",
   "execution_count": 6,
   "metadata": {},
   "outputs": [],
   "source": [
    "hidden = torch.randn(1,3,2)\n",
    "\n",
    "inputs = torch.Tensor([[h,e,l,l,o],[e,o,l,l,l],[l,l,e,e,l]])"
   ]
  },
  {
   "cell_type": "code",
   "execution_count": 7,
   "metadata": {},
   "outputs": [
    {
     "name": "stdout",
     "output_type": "stream",
     "text": [
      "batch input size torch.Size([3, 5, 4]) out size torch.Size([3, 5, 2])\n"
     ]
    }
   ],
   "source": [
    "out, hidden = cell(inputs, hidden)\n",
    "print(\"batch input size\", inputs.size(), \"out size\", out.size())"
   ]
  },
  {
   "cell_type": "code",
   "execution_count": 8,
   "metadata": {},
   "outputs": [],
   "source": [
    "cell = nn.RNN(input_size=4, hidden_size=2)"
   ]
  },
  {
   "cell_type": "code",
   "execution_count": 9,
   "metadata": {},
   "outputs": [
    {
     "name": "stdout",
     "output_type": "stream",
     "text": [
      "batch input size torch.Size([5, 3, 4]) out size torch.Size([5, 3, 2])\n"
     ]
    }
   ],
   "source": [
    "inputs = inputs.transpose(dim0=0, dim1=1)\n",
    "\n",
    "out, hidden = cell(inputs, hidden)\n",
    "print(\"batch input size\", inputs.size(), \"out size\", out.size())"
   ]
  },
  {
   "cell_type": "code",
   "execution_count": null,
   "metadata": {},
   "outputs": [],
   "source": []
  }
 ],
 "metadata": {
  "kernelspec": {
   "display_name": "PyTorch",
   "language": "python",
   "name": "pytorch"
  },
  "language_info": {
   "codemirror_mode": {
    "name": "ipython",
    "version": 3
   },
   "file_extension": ".py",
   "mimetype": "text/x-python",
   "name": "python",
   "nbconvert_exporter": "python",
   "pygments_lexer": "ipython3",
   "version": "3.6.6"
  }
 },
 "nbformat": 4,
 "nbformat_minor": 2
}
