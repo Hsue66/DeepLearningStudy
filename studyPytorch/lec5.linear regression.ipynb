{
 "cells": [
  {
   "cell_type": "code",
   "execution_count": 1,
   "metadata": {},
   "outputs": [],
   "source": [
    "import torch\n",
    "import torch.nn as nn\n",
    "import torch.nn.functional as F\n",
    "\n",
    "import torch.optim as optim\n",
    "\n",
    "from torch.autograd import Variable\n",
    "\n",
    "x_data = Variable(torch.Tensor([[1.0],[2.0],[3.0]]))\n",
    "y_data = Variable(torch.Tensor([[2.0],[4.0],[6.0]]))"
   ]
  },
  {
   "cell_type": "code",
   "execution_count": 2,
   "metadata": {},
   "outputs": [],
   "source": [
    "class Model(nn.Module):\n",
    "    def __init__(self):\n",
    "        super(Model, self).__init__()\n",
    "        self.linear = nn.Linear(1,1) \n",
    "        \n",
    "    def forward(self, x):\n",
    "        y_pred = self.linear(x)\n",
    "        return y_pred\n",
    "    \n",
    "model = Model()\n",
    "\n",
    "#device = torch.device(\"cuda:0\" if torch.cuda.is_available() else \"cpu\")\n",
    "#model.to(device)"
   ]
  },
  {
   "cell_type": "code",
   "execution_count": 3,
   "metadata": {},
   "outputs": [],
   "source": [
    "criterion = nn.MSELoss(size_average=False)\n",
    "optimizer = optim.SGD(model.parameters(), lr = 0.01)"
   ]
  },
  {
   "cell_type": "code",
   "execution_count": 4,
   "metadata": {
    "scrolled": true
   },
   "outputs": [
    {
     "name": "stdout",
     "output_type": "stream",
     "text": [
      "0 tensor(24.6475)\n",
      "10 tensor(0.5397)\n",
      "20 tensor(0.4606)\n",
      "30 tensor(0.3985)\n",
      "40 tensor(0.3448)\n",
      "50 tensor(0.2983)\n",
      "60 tensor(0.2581)\n",
      "70 tensor(0.2233)\n",
      "80 tensor(0.1932)\n",
      "90 tensor(0.1672)\n",
      "100 tensor(0.1447)\n",
      "110 tensor(0.1252)\n",
      "120 tensor(0.1083)\n",
      "130 tensor(1.00000e-02 *\n",
      "       9.3708)\n",
      "140 tensor(1.00000e-02 *\n",
      "       8.1079)\n",
      "150 tensor(1.00000e-02 *\n",
      "       7.0152)\n",
      "160 tensor(1.00000e-02 *\n",
      "       6.0698)\n",
      "170 tensor(1.00000e-02 *\n",
      "       5.2517)\n",
      "180 tensor(1.00000e-02 *\n",
      "       4.5440)\n",
      "190 tensor(1.00000e-02 *\n",
      "       3.9316)\n",
      "200 tensor(1.00000e-02 *\n",
      "       3.4017)\n",
      "210 tensor(1.00000e-02 *\n",
      "       2.9433)\n",
      "220 tensor(1.00000e-02 *\n",
      "       2.5466)\n",
      "230 tensor(1.00000e-02 *\n",
      "       2.2034)\n",
      "240 tensor(1.00000e-02 *\n",
      "       1.9065)\n",
      "250 tensor(1.00000e-02 *\n",
      "       1.6495)\n",
      "260 tensor(1.00000e-02 *\n",
      "       1.4272)\n",
      "270 tensor(1.00000e-02 *\n",
      "       1.2349)\n",
      "280 tensor(1.00000e-02 *\n",
      "       1.0685)\n",
      "290 tensor(1.00000e-03 *\n",
      "       9.2447)\n",
      "300 tensor(1.00000e-03 *\n",
      "       7.9988)\n",
      "310 tensor(1.00000e-03 *\n",
      "       6.9208)\n",
      "320 tensor(1.00000e-03 *\n",
      "       5.9881)\n",
      "330 tensor(1.00000e-03 *\n",
      "       5.1811)\n",
      "340 tensor(1.00000e-03 *\n",
      "       4.4828)\n",
      "350 tensor(1.00000e-03 *\n",
      "       3.8787)\n",
      "360 tensor(1.00000e-03 *\n",
      "       3.3559)\n",
      "370 tensor(1.00000e-03 *\n",
      "       2.9037)\n",
      "380 tensor(1.00000e-03 *\n",
      "       2.5124)\n",
      "390 tensor(1.00000e-03 *\n",
      "       2.1738)\n",
      "400 tensor(1.00000e-03 *\n",
      "       1.8808)\n",
      "410 tensor(1.00000e-03 *\n",
      "       1.6273)\n",
      "420 tensor(1.00000e-03 *\n",
      "       1.4080)\n",
      "430 tensor(1.00000e-03 *\n",
      "       1.2183)\n",
      "440 tensor(1.00000e-03 *\n",
      "       1.0541)\n",
      "450 tensor(1.00000e-04 *\n",
      "       9.1203)\n",
      "460 tensor(1.00000e-04 *\n",
      "       7.8911)\n",
      "470 tensor(1.00000e-04 *\n",
      "       6.8277)\n",
      "480 tensor(1.00000e-04 *\n",
      "       5.9075)\n",
      "490 tensor(1.00000e-04 *\n",
      "       5.1114)\n"
     ]
    },
    {
     "name": "stderr",
     "output_type": "stream",
     "text": [
      "/home/hsue/.local/lib/python3.6/site-packages/ipykernel_launcher.py:7: UserWarning: invalid index of a 0-dim tensor. This will be an error in PyTorch 0.5. Use tensor.item() to convert a 0-dim tensor to a Python number\n",
      "  import sys\n"
     ]
    }
   ],
   "source": [
    "for epoch in range(500):\n",
    "    y_pred = model(x_data)\n",
    "    \n",
    "    loss = criterion(y_pred, y_data)\n",
    "    \n",
    "    if epoch%10 == 0:\n",
    "        print(epoch, loss.data[0])\n",
    "    \n",
    "    optimizer.zero_grad()\n",
    "    loss.backward()\n",
    "    optimizer.step()"
   ]
  },
  {
   "cell_type": "code",
   "execution_count": 5,
   "metadata": {},
   "outputs": [
    {
     "name": "stdout",
     "output_type": "stream",
     "text": [
      "predict (after training) 4 tensor(7.9756)\n"
     ]
    }
   ],
   "source": [
    "hour_var = Variable(torch.Tensor([[4.0]]))\n",
    "print(\"predict (after training)\",4, model.forward(hour_var).data[0][0])"
   ]
  }
 ],
 "metadata": {
  "kernelspec": {
   "display_name": "PyTorch",
   "language": "python",
   "name": "pytorch"
  },
  "language_info": {
   "codemirror_mode": {
    "name": "ipython",
    "version": 3
   },
   "file_extension": ".py",
   "mimetype": "text/x-python",
   "name": "python",
   "nbconvert_exporter": "python",
   "pygments_lexer": "ipython3",
   "version": "3.6.6"
  }
 },
 "nbformat": 4,
 "nbformat_minor": 2
}
