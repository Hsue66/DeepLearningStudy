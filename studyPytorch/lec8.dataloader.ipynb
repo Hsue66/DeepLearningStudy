{
 "cells": [
  {
   "cell_type": "code",
   "execution_count": 1,
   "metadata": {},
   "outputs": [],
   "source": [
    "import torch\n",
    "import torch.nn as nn\n",
    "import torch.nn.functional as F\n",
    "\n",
    "import torch.optim as optim\n",
    "\n",
    "from torch.autograd import Variable\n",
    "from torch.utils.data import Dataset, DataLoader\n",
    "\n",
    "import numpy as np"
   ]
  },
  {
   "cell_type": "code",
   "execution_count": 2,
   "metadata": {},
   "outputs": [],
   "source": [
    "class DiabetesDataset(Dataset):\n",
    "    def __init__(self):\n",
    "        xy = np.loadtxt('../data/diabetes.csv', delimiter=',', dtype=np.float32)\n",
    "        self.len = xy.shape[0]\n",
    "        self.x_data = torch.from_numpy(xy[:, 0:-1])\n",
    "        self.y_data = torch.from_numpy(xy[:, [-1]])\n",
    "        \n",
    "    def __getitem__(self, index):\n",
    "        return self.x_data[index], self.y_data[index]\n",
    "    \n",
    "    def __len__(self):\n",
    "        return self.len\n",
    "\n",
    "dataset = DiabetesDataset()\n",
    "train_loader = DataLoader(dataset=dataset, batch_size=32, shuffle=True, num_workers=2)"
   ]
  },
  {
   "cell_type": "code",
   "execution_count": 3,
   "metadata": {},
   "outputs": [],
   "source": [
    "class Model(nn.Module):\n",
    "    def __init__(self):\n",
    "        super(Model, self).__init__()\n",
    "        self.L1 = nn.Linear(8,6)\n",
    "        self.L2 = nn.Linear(6,4)\n",
    "        self.L3 = nn.Linear(4,1)\n",
    "        self.sigmoid = nn.Sigmoid()\n",
    "        \n",
    "    def forward(self,x):\n",
    "        out1 = self.sigmoid(self.L1(x))\n",
    "        out2 = self.sigmoid(self.L2(out1))\n",
    "        y_pred = self.sigmoid(self.L3(out2))\n",
    "        return y_pred\n",
    "    \n",
    "model = Model()"
   ]
  },
  {
   "cell_type": "code",
   "execution_count": 4,
   "metadata": {},
   "outputs": [],
   "source": [
    "criterion = nn.BCELoss(size_average=True)\n",
    "optimizer = optim.SGD(model.parameters(), lr=0.01)"
   ]
  },
  {
   "cell_type": "code",
   "execution_count": 5,
   "metadata": {},
   "outputs": [
    {
     "name": "stdout",
     "output_type": "stream",
     "text": [
      "0 0 tensor(0.6871)\n",
      "0 1 tensor(0.6538)\n",
      "0 2 tensor(0.6321)\n",
      "0 3 tensor(0.6650)\n",
      "0 4 tensor(0.6092)\n",
      "0 5 tensor(0.6648)\n",
      "0 6 tensor(0.6308)\n",
      "0 7 tensor(0.6762)\n",
      "0 8 tensor(0.5851)\n",
      "0 9 tensor(0.6300)\n",
      "0 10 tensor(0.6762)\n",
      "0 11 tensor(0.6531)\n",
      "0 12 tensor(0.6758)\n",
      "0 13 tensor(0.6174)\n",
      "0 14 tensor(0.6998)\n",
      "0 15 tensor(0.6528)\n",
      "0 16 tensor(0.6411)\n",
      "0 17 tensor(0.6174)\n",
      "0 18 tensor(0.6641)\n",
      "0 19 tensor(0.6641)\n",
      "0 20 tensor(0.6873)\n",
      "0 21 tensor(0.6761)\n",
      "0 22 tensor(0.6997)\n",
      "0 23 tensor(0.6374)\n"
     ]
    },
    {
     "name": "stderr",
     "output_type": "stream",
     "text": [
      "/home/hsue/.local/lib/python3.6/site-packages/ipykernel_launcher.py:9: UserWarning: invalid index of a 0-dim tensor. This will be an error in PyTorch 0.5. Use tensor.item() to convert a 0-dim tensor to a Python number\n",
      "  if __name__ == '__main__':\n"
     ]
    },
    {
     "name": "stdout",
     "output_type": "stream",
     "text": [
      "1 0 tensor(0.7352)\n",
      "1 1 tensor(0.6403)\n",
      "1 2 tensor(0.6643)\n",
      "1 3 tensor(0.6167)\n",
      "1 4 tensor(0.6760)\n",
      "1 5 tensor(0.6155)\n",
      "1 6 tensor(0.6635)\n",
      "1 7 tensor(0.6642)\n",
      "1 8 tensor(0.5911)\n",
      "1 9 tensor(0.5898)\n",
      "1 10 tensor(0.6390)\n",
      "1 11 tensor(0.6758)\n",
      "1 12 tensor(0.6263)\n",
      "1 13 tensor(0.6637)\n",
      "1 14 tensor(0.6510)\n",
      "1 15 tensor(0.6634)\n",
      "1 16 tensor(0.7140)\n",
      "1 17 tensor(0.5881)\n",
      "1 18 tensor(0.7015)\n",
      "1 19 tensor(0.6637)\n",
      "1 20 tensor(0.6128)\n",
      "1 21 tensor(0.6765)\n",
      "1 22 tensor(0.6764)\n",
      "1 23 tensor(0.6526)\n"
     ]
    }
   ],
   "source": [
    "for epoch in range(2):\n",
    "    for i, data in enumerate(train_loader, 0):\n",
    "        inputs, labels = data\n",
    "        inputs, labels = Variable(inputs), Variable(labels)\n",
    "        \n",
    "        y_pred = model(inputs)\n",
    "    \n",
    "        loss = criterion(y_pred, labels)\n",
    "        print(epoch, i, loss.data[0])\n",
    "    \n",
    "        optimizer.zero_grad()\n",
    "        loss.backward()\n",
    "        optimizer.step()"
   ]
  },
  {
   "cell_type": "code",
   "execution_count": null,
   "metadata": {},
   "outputs": [],
   "source": []
  }
 ],
 "metadata": {
  "kernelspec": {
   "display_name": "PyTorch",
   "language": "python",
   "name": "pytorch"
  },
  "language_info": {
   "codemirror_mode": {
    "name": "ipython",
    "version": 3
   },
   "file_extension": ".py",
   "mimetype": "text/x-python",
   "name": "python",
   "nbconvert_exporter": "python",
   "pygments_lexer": "ipython3",
   "version": "3.6.6"
  }
 },
 "nbformat": 4,
 "nbformat_minor": 2
}
