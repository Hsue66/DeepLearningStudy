{
 "cells": [
  {
   "cell_type": "code",
   "execution_count": 1,
   "metadata": {},
   "outputs": [],
   "source": [
    "import torch\n",
    "import torch.nn as nn\n",
    "import torch.optim as optim\n",
    "import sys"
   ]
  },
  {
   "cell_type": "code",
   "execution_count": 2,
   "metadata": {},
   "outputs": [],
   "source": [
    "idx2char = ['h','i','e','l','o']\n",
    "\n",
    "x_data = [0,1,0,2,3,3]\n",
    "one_hot_lookup = [[1,0,0,0,0],[0,1,0,0,0],[0,0,1,0,0],[0,0,0,1,0],[0,0,0,0,1]]\n",
    "y_data = [1,0,2,3,3,4]\n",
    "\n",
    "x_one_hot = [one_hot_lookup[x] for x in x_data]\n",
    "\n",
    "inputs = torch.Tensor(x_one_hot)\n",
    "labels = torch.LongTensor(y_data)\n",
    "\n",
    "num_classes = 5\n",
    "input_size = 5\n",
    "hidden_size = 5\n",
    "batch_size = 1\n",
    "sequence_length = 1\n",
    "num_layers = 1"
   ]
  },
  {
   "cell_type": "code",
   "execution_count": 3,
   "metadata": {},
   "outputs": [],
   "source": [
    "class Model(nn.Module):\n",
    "    \n",
    "    def __init__(self):\n",
    "        super(Model, self).__init__()\n",
    "        self.rnn = nn.RNN(input_size= input_size, hidden_size=hidden_size, batch_first=True)\n",
    "    \n",
    "    def forward(self,hidden, x):\n",
    "        x = x.view(batch_size, sequence_length, input_size)\n",
    "        out, hidden = self.rnn(x, hidden)\n",
    "        return hidden, out.view(-1, num_classes)\n",
    "    \n",
    "    def init_hidden(self):\n",
    "        return torch.zeros(num_layers, batch_size, hidden_size)"
   ]
  },
  {
   "cell_type": "code",
   "execution_count": 4,
   "metadata": {},
   "outputs": [
    {
     "name": "stdout",
     "output_type": "stream",
     "text": [
      "Model(\n",
      "  (rnn): RNN(5, 5, batch_first=True)\n",
      ")\n"
     ]
    }
   ],
   "source": [
    "model = Model()\n",
    "print(model)"
   ]
  },
  {
   "cell_type": "code",
   "execution_count": 5,
   "metadata": {},
   "outputs": [],
   "source": [
    "criterion = nn.CrossEntropyLoss()\n",
    "optimizer = optim.Adam(model.parameters(), lr=0.1)"
   ]
  },
  {
   "cell_type": "code",
   "execution_count": 6,
   "metadata": {},
   "outputs": [
    {
     "name": "stdout",
     "output_type": "stream",
     "text": [
      "lholoo epoch: 1, loss: 8.206\n",
      "lhello epoch: 2, loss: 7.064\n",
      "lhello epoch: 3, loss: 6.217\n",
      "lhello epoch: 4, loss: 5.577\n",
      "lhello epoch: 5, loss: 5.132\n",
      "ihello epoch: 6, loss: 4.738\n",
      "ihello epoch: 7, loss: 4.448\n",
      "ihello epoch: 8, loss: 4.220\n",
      "ihello epoch: 9, loss: 4.007\n",
      "ihello epoch: 10, loss: 3.849\n",
      "ihello epoch: 11, loss: 3.710\n",
      "ihello epoch: 12, loss: 3.582\n",
      "ihello epoch: 13, loss: 3.489\n",
      "ihello epoch: 14, loss: 3.404\n",
      "ihello epoch: 15, loss: 3.333\n",
      "ihello epoch: 16, loss: 3.281\n",
      "ihello epoch: 17, loss: 3.226\n",
      "ihello epoch: 18, loss: 3.181\n",
      "ihello epoch: 19, loss: 3.136\n",
      "ihello epoch: 20, loss: 3.101\n",
      "ihello epoch: 21, loss: 3.070\n",
      "ihello epoch: 22, loss: 3.045\n",
      "ihello epoch: 23, loss: 3.019\n",
      "ihello epoch: 24, loss: 2.997\n",
      "ihello epoch: 25, loss: 2.979\n",
      "ihello epoch: 26, loss: 2.962\n",
      "ihello epoch: 27, loss: 2.948\n",
      "ihello epoch: 28, loss: 2.935\n",
      "ihello epoch: 29, loss: 2.923\n",
      "ihello epoch: 30, loss: 2.912\n",
      "ihello epoch: 31, loss: 2.902\n",
      "ihello epoch: 32, loss: 2.893\n",
      "ihello epoch: 33, loss: 2.886\n",
      "ihello epoch: 34, loss: 2.879\n",
      "ihello epoch: 35, loss: 2.873\n",
      "ihello epoch: 36, loss: 2.867\n",
      "ihello epoch: 37, loss: 2.861\n",
      "ihello epoch: 38, loss: 2.856\n",
      "ihello epoch: 39, loss: 2.852\n",
      "ihello epoch: 40, loss: 2.848\n",
      "ihello epoch: 41, loss: 2.844\n",
      "ihello epoch: 42, loss: 2.840\n",
      "ihello epoch: 43, loss: 2.836\n",
      "ihello epoch: 44, loss: 2.833\n",
      "ihello epoch: 45, loss: 2.830\n",
      "ihello epoch: 46, loss: 2.827\n",
      "ihello epoch: 47, loss: 2.824\n",
      "ihello epoch: 48, loss: 2.821\n",
      "ihello epoch: 49, loss: 2.819\n",
      "ihello epoch: 50, loss: 2.816\n",
      "finished\n"
     ]
    }
   ],
   "source": [
    "for epoch in range(50):\n",
    "    optimizer.zero_grad()\n",
    "    loss = 0\n",
    "    hidden = model.init_hidden()\n",
    "    for input, label in zip(inputs, labels):\n",
    "        hidden, output = model(hidden, input)\n",
    "        val, idx = output.max(1)\n",
    "        sys.stdout.write(idx2char[idx.data.item()])\n",
    "        loss += criterion(output, label.unsqueeze(0))\n",
    "        \n",
    "    print(\" epoch: %d, loss: %1.3f\" % (epoch+1, loss.data.item()))\n",
    "    \n",
    "    loss.backward()\n",
    "    optimizer.step()\n",
    "    \n",
    "print(\"finished\")"
   ]
  }
 ],
 "metadata": {
  "kernelspec": {
   "display_name": "PyTorch",
   "language": "python",
   "name": "pytorch"
  },
  "language_info": {
   "codemirror_mode": {
    "name": "ipython",
    "version": 3
   },
   "file_extension": ".py",
   "mimetype": "text/x-python",
   "name": "python",
   "nbconvert_exporter": "python",
   "pygments_lexer": "ipython3",
   "version": "3.6.6"
  }
 },
 "nbformat": 4,
 "nbformat_minor": 2
}
