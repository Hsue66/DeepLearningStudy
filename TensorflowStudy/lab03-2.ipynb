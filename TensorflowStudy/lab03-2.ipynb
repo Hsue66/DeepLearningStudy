{
 "cells": [
  {
   "cell_type": "code",
   "execution_count": 1,
   "metadata": {
    "collapsed": true,
    "deletable": true,
    "editable": true
   },
   "outputs": [],
   "source": [
    "import tensorflow as tf"
   ]
  },
  {
   "cell_type": "code",
   "execution_count": 2,
   "metadata": {
    "collapsed": true,
    "deletable": true,
    "editable": true
   },
   "outputs": [],
   "source": [
    "x_train = [1,2,3]\n",
    "y_train = [1,2,3]\n",
    "\n",
    "W = tf.Variable(tf.random_normal([1]),name = \"weight\")\n",
    "\n",
    "X = tf.placeholder(tf.float32)\n",
    "Y = tf.placeholder(tf.float32)"
   ]
  },
  {
   "cell_type": "code",
   "execution_count": 3,
   "metadata": {
    "collapsed": true,
    "deletable": true,
    "editable": true
   },
   "outputs": [],
   "source": [
    "hypothesis = X*W\n",
    "\n",
    "cost = tf.reduce_mean(tf.square(hypothesis-Y))\n",
    "\n",
    "# 직접 Gradient Descent Optimizer 구현\n",
    "learning_rate = 0.1\n",
    "gradient = tf.reduce_mean((X*W-Y)*X)\n",
    "descent = W - learning_rate*gradient\n",
    "update = W.assign(descent)"
   ]
  },
  {
   "cell_type": "code",
   "execution_count": 4,
   "metadata": {
    "collapsed": false,
    "deletable": true,
    "editable": true
   },
   "outputs": [
    {
     "name": "stdout",
     "output_type": "stream",
     "text": [
      "0 1.23698 [ 0.48515239]\n",
      "1 0.351853 [ 0.72541463]\n",
      "2 0.100083 [ 0.85355449]\n",
      "3 0.028468 [ 0.92189574]\n",
      "4 0.00809755 [ 0.9583444]\n",
      "5 0.0023033 [ 0.97778368]\n",
      "6 0.00065516 [ 0.98815131]\n",
      "7 0.000186356 [ 0.99368072]\n",
      "8 5.30078e-05 [ 0.99662971]\n",
      "9 1.50782e-05 [ 0.9982025]\n",
      "10 4.28899e-06 [ 0.99904132]\n",
      "11 1.22006e-06 [ 0.99948871]\n",
      "12 3.46983e-07 [ 0.99972731]\n",
      "13 9.87067e-08 [ 0.99985456]\n",
      "14 2.80714e-08 [ 0.99992245]\n",
      "15 7.97534e-09 [ 0.99995863]\n",
      "16 2.27497e-09 [ 0.99997795]\n",
      "17 6.44828e-10 [ 0.99998826]\n",
      "18 1.83534e-10 [ 0.99999374]\n",
      "19 5.19928e-11 [ 0.99999666]\n",
      "20 1.44998e-11 [ 0.99999821]\n"
     ]
    }
   ],
   "source": [
    "sess = tf.Session()\n",
    "\n",
    "sess.run(tf.global_variables_initializer())\n",
    "\n",
    "for step in range(21):\n",
    "    sess.run(update, {X:x_train,Y:y_train})\n",
    "    print step, sess.run(cost,{X:x_train,Y:y_train}), sess.run(W)"
   ]
  },
  {
   "cell_type": "code",
   "execution_count": null,
   "metadata": {
    "collapsed": true,
    "deletable": true,
    "editable": true
   },
   "outputs": [],
   "source": []
  }
 ],
 "metadata": {
  "kernelspec": {
   "display_name": "Python 2",
   "language": "python",
   "name": "python2"
  },
  "language_info": {
   "codemirror_mode": {
    "name": "ipython",
    "version": 2
   },
   "file_extension": ".py",
   "mimetype": "text/x-python",
   "name": "python",
   "nbconvert_exporter": "python",
   "pygments_lexer": "ipython2",
   "version": "2.7.12"
  }
 },
 "nbformat": 4,
 "nbformat_minor": 2
}
