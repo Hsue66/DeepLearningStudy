{
 "cells": [
  {
   "cell_type": "code",
   "execution_count": 1,
   "metadata": {
    "collapsed": true
   },
   "outputs": [],
   "source": [
    "import tensorflow as tf"
   ]
  },
  {
   "cell_type": "code",
   "execution_count": 2,
   "metadata": {
    "collapsed": true
   },
   "outputs": [],
   "source": [
    "x_data = [[1,2,1,1],\n",
    "          [2,1,3,2],\n",
    "          [3,1,3,4],\n",
    "          [4,1,5,5],\n",
    "          [1,7,5,5],\n",
    "          [1,2,5,6],\n",
    "          [1,6,6,6],\n",
    "          [1,7,7,7]]\n",
    "y_data = [[0,0,1],\n",
    "          [0,0,1],\n",
    "          [0,0,1],\n",
    "          [0,1,0],\n",
    "          [0,1,0],\n",
    "          [0,1,0],\n",
    "          [1,0,0],\n",
    "          [1,0,0]]"
   ]
  },
  {
   "cell_type": "code",
   "execution_count": 3,
   "metadata": {
    "collapsed": true
   },
   "outputs": [],
   "source": [
    "X = tf.placeholder(\"float\",[None, 4])\n",
    "Y = tf.placeholder(\"float\",[None, 3])\n",
    "\n",
    "W = tf.Variable(tf.random_normal([4,3]),name='weight')\n",
    "b = tf.Variable(tf.random_normal([3]),name='bias')"
   ]
  },
  {
   "cell_type": "code",
   "execution_count": 4,
   "metadata": {
    "collapsed": true
   },
   "outputs": [],
   "source": [
    "hypothesis = tf.nn.softmax(tf.matmul(X,W)+b)\n",
    "\n",
    "cost = tf.reduce_mean(-tf.reduce_sum(Y*tf.log(hypothesis),axis =1))\n",
    "\n",
    "optimizer = tf.train.GradientDescentOptimizer(learning_rate=0.01).minimize(cost)"
   ]
  },
  {
   "cell_type": "code",
   "execution_count": 5,
   "metadata": {
    "collapsed": false
   },
   "outputs": [
    {
     "name": "stdout",
     "output_type": "stream",
     "text": [
      "0 6.15277\n",
      "100 0.960506\n",
      "200 0.789705\n",
      "300 0.70666\n",
      "400 0.652495\n",
      "500 0.613577\n",
      "600 0.584096\n",
      "700 0.560984\n",
      "800 0.542457\n",
      "900 0.527398\n",
      "1000 0.515048\n",
      "1100 0.504822\n",
      "1200 0.496215\n",
      "1300 0.488789\n",
      "1400 0.482192\n",
      "1500 0.476169\n",
      "1600 0.470556\n",
      "1700 0.465248\n",
      "1800 0.460183\n",
      "1900 0.45532\n",
      "2000 0.450635\n"
     ]
    }
   ],
   "source": [
    "#with tf.Session() as sess:\n",
    "sess = tf.Session()\n",
    "sess.run(tf.global_variables_initializer())\n",
    "\n",
    "for step in range(2001):\n",
    "    sess.run(optimizer,{X:x_data, Y:y_data})\n",
    "    if step % 100 == 0:\n",
    "        print step, sess.run(cost, {X:x_data, Y:y_data})"
   ]
  },
  {
   "cell_type": "code",
   "execution_count": 11,
   "metadata": {
    "collapsed": false
   },
   "outputs": [
    {
     "name": "stdout",
     "output_type": "stream",
     "text": [
      "[[ 0.00588817  0.05421809  0.93989372]]\n",
      "(array([[  9.85605538e-01,   1.43546779e-02,   3.97786316e-05],\n",
      "       [  8.36994722e-02,   7.43437350e-01,   1.72863171e-01],\n",
      "       [  5.41534554e-03,   3.96746062e-02,   9.54910040e-01]], dtype=float32), array([0, 1, 2]))\n"
     ]
    }
   ],
   "source": [
    "input_val = [[1,2,1,1]]\n",
    "print sess.run(hypothesis, {X:input_val})\n",
    "\n",
    "a = sess.run(hypothesis, {X:[[1,11,7,9],[1,3,4,3],[1,1,0,1]]})\n",
    "print(a, sess.run(tf.arg_max(a,1)))\n"
   ]
  },
  {
   "cell_type": "code",
   "execution_count": null,
   "metadata": {
    "collapsed": true
   },
   "outputs": [],
   "source": []
  }
 ],
 "metadata": {
  "kernelspec": {
   "display_name": "Python 2",
   "language": "python",
   "name": "python2"
  },
  "language_info": {
   "codemirror_mode": {
    "name": "ipython",
    "version": 2
   },
   "file_extension": ".py",
   "mimetype": "text/x-python",
   "name": "python",
   "nbconvert_exporter": "python",
   "pygments_lexer": "ipython2",
   "version": "2.7.12"
  }
 },
 "nbformat": 4,
 "nbformat_minor": 2
}
