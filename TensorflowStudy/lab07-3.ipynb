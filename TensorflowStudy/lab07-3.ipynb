{
 "cells": [
  {
   "cell_type": "code",
   "execution_count": 1,
   "metadata": {
    "collapsed": true,
    "deletable": true,
    "editable": true
   },
   "outputs": [],
   "source": [
    "import tensorflow as tf\n",
    "from tensorflow.examples.tutorials.mnist import input_data\n",
    "import matplotlib.pyplot as plt\n",
    "import random"
   ]
  },
  {
   "cell_type": "code",
   "execution_count": 2,
   "metadata": {
    "collapsed": false,
    "deletable": true,
    "editable": true,
    "scrolled": false
   },
   "outputs": [
    {
     "name": "stdout",
     "output_type": "stream",
     "text": [
      "Extracting MNIST_data/train-images-idx3-ubyte.gz\n",
      "Extracting MNIST_data/train-labels-idx1-ubyte.gz\n",
      "Extracting MNIST_data/t10k-images-idx3-ubyte.gz\n",
      "Extracting MNIST_data/t10k-labels-idx1-ubyte.gz\n"
     ]
    }
   ],
   "source": [
    "mnist = input_data.read_data_sets(\"MNIST_data/\", one_hot = True)\n",
    "\n",
    "nb_classes = 10\n",
    "\n",
    "X = tf.placeholder(tf.float32, [None,784])\n",
    "Y = tf.placeholder(tf.float32, [None,nb_classes])\n",
    "\n",
    "W = tf.Variable(tf.random_normal([784,nb_classes]),name='weight')\n",
    "b = tf.Variable(tf.random_normal([nb_classes]),name='bias')"
   ]
  },
  {
   "cell_type": "code",
   "execution_count": 3,
   "metadata": {
    "collapsed": true,
    "deletable": true,
    "editable": true
   },
   "outputs": [],
   "source": [
    "hypothesis = tf.nn.softmax(tf.matmul(X,W)+b)\n",
    "\n",
    "cost = tf.reduce_mean(-tf.reduce_sum(Y*tf.log(hypothesis), axis=1))\n",
    "\n",
    "optimizer = tf.train.GradientDescentOptimizer(0.1).minimize(cost)\n",
    "\n",
    "is_correct = tf.equal(tf.argmax(hypothesis,1),tf.argmax(Y,1))\n",
    "accuracy = tf.reduce_mean(tf.cast(is_correct,tf.float32))"
   ]
  },
  {
   "cell_type": "code",
   "execution_count": 4,
   "metadata": {
    "collapsed": false,
    "deletable": true,
    "editable": true,
    "scrolled": true
   },
   "outputs": [
    {
     "name": "stdout",
     "output_type": "stream",
     "text": [
      "Epoch: 0001 cost = 2.983390030\n",
      "Epoch: 0002 cost = 1.147327725\n",
      "Epoch: 0003 cost = 0.913224859\n",
      "Epoch: 0004 cost = 0.796446551\n",
      "Epoch: 0005 cost = 0.722933761\n",
      "Epoch: 0006 cost = 0.670361400\n",
      "Epoch: 0007 cost = 0.631064247\n",
      "Epoch: 0008 cost = 0.599902885\n",
      "Epoch: 0009 cost = 0.573790728\n",
      "Epoch: 0010 cost = 0.552007588\n",
      "Epoch: 0011 cost = 0.533713880\n",
      "Epoch: 0012 cost = 0.517098370\n",
      "Epoch: 0013 cost = 0.503456317\n",
      "Epoch: 0014 cost = 0.490515545\n",
      "Epoch: 0015 cost = 0.478635616\n",
      "Accuracy:  0.8822\n",
      "Label:  [8]\n",
      "Prediction:  [8]\n"
     ]
    },
    {
     "data": {
      "image/png": "[encoded data removed]",
      "text/plain": [
       "<matplotlib.figure.Figure at 0x7f5e43b2c710>"
      ]
     },
     "metadata": {},
     "output_type": "display_data"
    }
   ],
   "source": [
    "training_epochs = 15\n",
    "batch_size = 100\n",
    "\n",
    "with tf.Session() as sess:\n",
    "    sess.run(tf.global_variables_initializer())\n",
    "    for epoch in range(training_epochs):\n",
    "        avg_cost = 0\n",
    "        total_batch = int(mnist.train.num_examples / batch_size)\n",
    "        for i in range(total_batch):\n",
    "            batch_xs, batch_ys = mnist.train.next_batch(batch_size)\n",
    "            c, _ = sess.run([cost, optimizer],{X: batch_xs, Y: batch_ys})\n",
    "            avg_cost += c / total_batch\n",
    "\n",
    "        print 'Epoch:', '%04d' % (epoch + 1),'cost =', '{:.9f}'.format(avg_cost)\n",
    "    print \"Accuracy: \", sess.run(accuracy, {X:mnist.test.images, Y:mnist.test.labels})\n",
    "    # print \"Accuracy: \", accuracy.eval(session=sess, {X:mnist.test.images, Y:mnist.test.labels})\n",
    "    \n",
    "    r = random.randint(0, mnist.test.num_examples -1)\n",
    "    print \"Label: \", sess.run(tf.argmax(mnist.test.labels[r:r+1],1))\n",
    "    print \"Prediction: \", sess.run(tf.argmax(hypothesis,1),{X:mnist.test.images[r:r+1]})\n",
    "    \n",
    "    plt.imshow(mnist.test.images[r:r+1].reshape(28,28), cmap='Greys', interpolation='nearest')\n",
    "    plt.show()"
   ]
  },
  {
   "cell_type": "code",
   "execution_count": null,
   "metadata": {
    "collapsed": false,
    "deletable": true,
    "editable": true
   },
   "outputs": [],
   "source": []
  }
 ],
 "metadata": {
  "kernelspec": {
   "display_name": "Python 2",
   "language": "python",
   "name": "python2"
  },
  "language_info": {
   "codemirror_mode": {
    "name": "ipython",
    "version": 2
   },
   "file_extension": ".py",
   "mimetype": "text/x-python",
   "name": "python",
   "nbconvert_exporter": "python",
   "pygments_lexer": "ipython2",
   "version": "2.7.12"
  }
 },
 "nbformat": 4,
 "nbformat_minor": 2
}
