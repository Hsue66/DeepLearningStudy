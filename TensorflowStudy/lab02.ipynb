{
 "cells": [
  {
   "cell_type": "code",
   "execution_count": 1,
   "metadata": {
    "collapsed": true,
    "deletable": true,
    "editable": true
   },
   "outputs": [],
   "source": [
    "# 현재 주석 된 것 : 데이터가 그래프에 주어진 채로 시작\n",
    "# 주석 안된 것 : 데이터를 placeholder로 입력\n",
    "import tensorflo"
   ]
  },
  {
   "cell_type": "code",
   "execution_count": 2,
   "metadata": {
    "collapsed": false,
    "deletable": true,
    "editable": true
   },
   "outputs": [],
   "source": [
    "x_train = [1,2,3]\n",
    "y_train = [1,2,3]\n",
    "\n",
    "X = tf.placeholder(tf.float32)\n",
    "Y = tf.placeholder(tf.float32)\n",
    "\n",
    "W = tf.Variable(tf.random_normal([1]),name='weight')\n",
    "b = tf.Variable(tf.random_normal([1]),name='bias')\n",
    "\n",
    "#hypothesis = x_train*W + b\n",
    "hypothesis = X*W + b"
   ]
  },
  {
   "cell_type": "code",
   "execution_count": 3,
   "metadata": {
    "collapsed": false,
    "deletable": true,
    "editable": true
   },
   "outputs": [],
   "source": [
    "# cost = tf.reduce_mean(tf.square(hypothesis-y_train))\n",
    "cost = tf.reduce_mean(tf.square(hypothesis-Y))"
   ]
  },
  {
   "cell_type": "code",
   "execution_count": 4,
   "metadata": {
    "collapsed": true,
    "deletable": true,
    "editable": true
   },
   "outputs": [],
   "source": [
    "optimizer = tf.train.GradientDescentOptimizer(learning_rate = 0.01)\n",
    "train = optimizer.minimize(cost)"
   ]
  },
  {
   "cell_type": "code",
   "execution_count": 5,
   "metadata": {
    "collapsed": false,
    "deletable": true,
    "editable": true
   },
   "outputs": [
    {
     "name": "stdout",
     "output_type": "stream",
     "text": [
      "0 22.7976 [-1.11512744] [ 0.77884287]\n",
      "100 0.0313083 [ 0.79447883] [ 1.46715856]\n",
      "200 0.0193466 [ 0.83845311] [ 1.36723411]\n",
      "300 0.011955 [ 0.87300932] [ 1.2886796]\n",
      "400 0.00738751 [ 0.90017366] [ 1.22692883]\n",
      "500 0.00456504 [ 0.92152733] [ 1.17838681]\n",
      "600 0.0028209 [ 0.93831354] [ 1.14022768]\n",
      "700 0.00174314 [ 0.95150882] [ 1.11023176]\n",
      "800 0.00107716 [ 0.96188158] [ 1.08665216]\n",
      "900 0.000665624 [ 0.97003525] [ 1.06811678]\n",
      "1000 0.000411304 [ 0.97644526] [ 1.05354548]\n",
      "1100 0.000254159 [ 0.98148394] [ 1.04209149]\n",
      "1200 0.00015705 [ 0.9854449] [ 1.03308713]\n",
      "1300 9.70479e-05 [ 0.98855829] [ 1.02600968]\n",
      "1400 5.99732e-05 [ 0.9910056] [ 1.02044666]\n",
      "1500 3.70606e-05 [ 0.99292946] [ 1.01607299]\n",
      "1600 2.29009e-05 [ 0.99444199] [ 1.01263463]\n",
      "1700 1.41506e-05 [ 0.99563098] [ 1.0099318]\n",
      "1800 8.74412e-06 [ 0.99656558] [ 1.00780725]\n",
      "1900 5.40331e-06 [ 0.99730027] [ 1.00613713]\n",
      "2000 3.33859e-06 [ 0.99787784] [ 1.00482416]\n"
     ]
    }
   ],
   "source": [
    "sess = tf.Session()\n",
    "\n",
    "sess.run(tf.global_variables_initializer())\n",
    "\n",
    "for step in range(2001):\n",
    "    #sess.run(train)\n",
    "    cost_val, W_val, b_val, _ = sess.run([cost,W,b,train],{X:[1,2,3],Y:[2,3,4]})\n",
    "    if step%100 == 0:\n",
    "        # print step, sess.run(cost), sess.run(W), sess.run(b)\n",
    "         print step, cost_val, W_val, b_val"
   ]
  },
  {
   "cell_type": "code",
   "execution_count": 6,
   "metadata": {
    "collapsed": false,
    "deletable": true,
    "editable": true
   },
   "outputs": [
    {
     "name": "stdout",
     "output_type": "stream",
     "text": [
      "[ 2.50163698  4.99634457]\n"
     ]
    }
   ],
   "source": [
    "print sess.run(hypothesis, {X:[1.5, 4]})"
   ]
  },
  {
   "cell_type": "code",
   "execution_count": null,
   "metadata": {
    "collapsed": true,
    "deletable": true,
    "editable": true
   },
   "outputs": [],
   "source": []
  }
 ],
 "metadata": {
  "kernelspec": {
   "display_name": "Python 2",
   "language": "python",
   "name": "python2"
  },
  "language_info": {
   "codemirror_mode": {
    "name": "ipython",
    "version": 2
   },
   "file_extension": ".py",
   "mimetype": "text/x-python",
   "name": "python",
   "nbconvert_exporter": "python",
   "pygments_lexer": "ipython2",
   "version": "2.7.12"
  }
 },
 "nbformat": 4,
 "nbformat_minor": 2
}
