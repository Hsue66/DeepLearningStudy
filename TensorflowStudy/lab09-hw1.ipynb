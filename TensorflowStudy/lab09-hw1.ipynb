{
 "cells": [
  {
   "cell_type": "code",
   "execution_count": 1,
   "metadata": {
    "collapsed": false,
    "deletable": true,
    "editable": true
   },
   "outputs": [],
   "source": [
    "import tensorflow as tf\n",
    "from tensorflow.examples.tutorials.mnist import input_data\n",
    "import matplotlib.pyplot as plt\n",
    "import random"
   ]
  },
  {
   "cell_type": "code",
   "execution_count": 2,
   "metadata": {
    "collapsed": false,
    "deletable": true,
    "editable": true
   },
   "outputs": [
    {
     "name": "stdout",
     "output_type": "stream",
     "text": [
      "Extracting MNIST_data/train-images-idx3-ubyte.gz\n",
      "Extracting MNIST_data/train-labels-idx1-ubyte.gz\n",
      "Extracting MNIST_data/t10k-images-idx3-ubyte.gz\n",
      "Extracting MNIST_data/t10k-labels-idx1-ubyte.gz\n"
     ]
    }
   ],
   "source": [
    "mnist = input_data.read_data_sets(\"MNIST_data/\", one_hot = True)\n",
    "\n",
    "nb_classes = 10\n",
    "\n",
    "X = tf.placeholder(tf.float32, [None,784])\n",
    "Y = tf.placeholder(tf.float32, [None,nb_classes])"
   ]
  },
  {
   "cell_type": "code",
   "execution_count": 3,
   "metadata": {
    "collapsed": false,
    "deletable": true,
    "editable": true
   },
   "outputs": [],
   "source": [
    "W1 = tf.Variable(tf.random_normal([784,nb_classes*2]),name='weight')\n",
    "b1 = tf.Variable(tf.random_normal([nb_classes*2]),name='bias')\n",
    "layer1 = tf.nn.softmax(tf.matmul(X,W1)+b1)\n",
    "\n",
    "W2 = tf.Variable(tf.random_normal([nb_classes*2,nb_classes]),name='weight')\n",
    "b2 = tf.Variable(tf.random_normal([nb_classes]),name='bias')\n",
    "hypothesis = tf.nn.softmax(tf.matmul(layer1,W2)+b2)\n",
    "\n",
    "cost = tf.reduce_mean(-tf.reduce_sum(Y*tf.log(hypothesis), axis=1))\n",
    "\n",
    "optimizer = tf.train.GradientDescentOptimizer(0.1).minimize(cost)\n",
    "\n",
    "is_correct = tf.equal(tf.argmax(hypothesis,1),tf.argmax(Y,1))\n",
    "accuracy = tf.reduce_mean(tf.cast(is_correct,tf.float32))"
   ]
  },
  {
   "cell_type": "code",
   "execution_count": 4,
   "metadata": {
    "collapsed": false,
    "deletable": true,
    "editable": true
   },
   "outputs": [
    {
     "name": "stdout",
     "output_type": "stream",
     "text": [
      "Epoch: 0001 cost = 2.729877933\n",
      "Epoch: 0002 cost = 1.110868742\n",
      "Epoch: 0003 cost = 0.885316064\n",
      "Epoch: 0004 cost = 0.774226849\n",
      "Epoch: 0005 cost = 0.703177625\n",
      "Epoch: 0006 cost = 0.652871095\n",
      "Epoch: 0007 cost = 0.615044244\n",
      "Epoch: 0008 cost = 0.583921774\n",
      "Epoch: 0009 cost = 0.559574022\n",
      "Epoch: 0010 cost = 0.538196157\n",
      "Epoch: 0011 cost = 0.520025070\n",
      "Epoch: 0012 cost = 0.504753590\n",
      "Epoch: 0013 cost = 0.491000175\n",
      "Epoch: 0014 cost = 0.478664024\n",
      "Epoch: 0015 cost = 0.467675304\n",
      "Accuracy:  0.8867\n",
      "Label:  [2]\n",
      "Prediction:  [2]\n"
     ]
    },
    {
     "data": {
      "image/png": "[encoded data removed]",
      "text/plain": [
       "<matplotlib.figure.Figure at 0x7fd11222c490>"
      ]
     },
     "metadata": {},
     "output_type": "display_data"
    }
   ],
   "source": [
    "training_epochs = 15\n",
    "batch_size = 100\n",
    "\n",
    "with tf.Session() as sess:\n",
    "    sess.run(tf.global_variables_initializer())\n",
    "    for epoch in range(training_epochs):\n",
    "        avg_cost = 0\n",
    "        total_batch = int(mnist.train.num_examples / batch_size)\n",
    "        for i in range(total_batch):\n",
    "            batch_xs, batch_ys = mnist.train.next_batch(batch_size)\n",
    "            c, _ = sess.run([cost, optimizer],{X: batch_xs, Y: batch_ys})\n",
    "            avg_cost += c / total_batch\n",
    "\n",
    "        print 'Epoch:', '%04d' % (epoch + 1),'cost =', '{:.9f}'.format(avg_cost)\n",
    "    print \"Accuracy: \", sess.run(accuracy, {X:mnist.test.images, Y:mnist.test.labels})\n",
    "    # print \"Accuracy: \", accuracy.eval(session=sess, {X:mnist.test.images, Y:mnist.test.labels})\n",
    "    \n",
    "    r = random.randint(0, mnist.test.num_examples -1)\n",
    "    print \"Label: \", sess.run(tf.argmax(mnist.test.labels[r:r+1],1))\n",
    "    print \"Prediction: \", sess.run(tf.argmax(hypothesis,1),{X:mnist.test.images[r:r+1]})\n",
    "    \n",
    "    plt.imshow(mnist.test.images[r:r+1].reshape(28,28), cmap='Greys', interpolation='nearest')\n",
    "    plt.show()"
   ]
  },
  {
   "cell_type": "code",
   "execution_count": null,
   "metadata": {
    "collapsed": true,
    "deletable": true,
    "editable": true
   },
   "outputs": [],
   "source": []
  }
 ],
 "metadata": {
  "kernelspec": {
   "display_name": "Python 2",
   "language": "python",
   "name": "python2"
  },
  "language_info": {
   "codemirror_mode": {
    "name": "ipython",
    "version": 2
   },
   "file_extension": ".py",
   "mimetype": "text/x-python",
   "name": "python",
   "nbconvert_exporter": "python",
   "pygments_lexer": "ipython2",
   "version": "2.7.12"
  }
 },
 "nbformat": 4,
 "nbformat_minor": 2
}
