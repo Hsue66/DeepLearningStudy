{
 "cells": [
  {
   "cell_type": "code",
   "execution_count": 1,
   "metadata": {},
   "outputs": [],
   "source": [
    "import torch\n",
    "import torch.nn as nn\n",
    "import torch.nn.functional as F"
   ]
  },
  {
   "cell_type": "code",
   "execution_count": null,
   "metadata": {},
   "outputs": [],
   "source": [
    "class Vgg16deconv(nn.Module):\n",
    "    def __init__(self):\n",
    "        super(Vgg16deconv, self).__init__()\n",
    "        self.features = nn.Sequential(\n",
    "            nn.MaxUnpool2d(kernel_size=2, stride=2)\n",
    "            nn.ReLU()\n",
    "            nn.ConvTranspose2d(512,512,kernel_size=3,stride=1,padding=1)\n",
    "            nn.ReLU()\n",
    "            nn.ConvTranspose2d(512,512,kernel_size=3,stride=1,padding=1)\n",
    "            nn.ReLU()\n",
    "            nn.ConvTranspose2d(512,512,kernel_size=3,stride=1,padding=1)\n",
    "        \n",
    "            nn.MaxUnpool2d(kernel_size=2, stride=2)\n",
    "            nn.ReLU()\n",
    "            nn.ConvTranspose2d(512,512,kernel_size=3,stride=1,padding=1)\n",
    "            nn.ReLU()\n",
    "            nn.ConvTranspose2d(512,512,kernel_size=3,stride=1,padding=1)\n",
    "            nn.ReLU()\n",
    "            nn.ConvTranspose2d(512,256,kernel_size=3,stride=1,padding=1)\n",
    "            \n",
    "            nn.MaxUnpool2d(kernel_size=2, stride=2)\n",
    "            nn.ReLU()\n",
    "            nn.ConvTranspose2d(256,256,kernel_size=3,stride=1,padding=1)\n",
    "            nn.ReLU()\n",
    "            nn.ConvTranspose2d(256,256,kernel_size=3,stride=1,padding=1)\n",
    "            nn.ReLU()\n",
    "            nn.ConvTranspose2d(256,128,kernel_size=3,stride=1,padding=1)\n",
    "            \n",
    "            nn.MaxUnpool2d(kernel_size=2, stride=2)\n",
    "            nn.ReLU()\n",
    "            nn.ConvTranspose2d(128,128,kernel_size=3,stride=1,padding=1)\n",
    "            nn.ReLU()\n",
    "            nn.ConvTranspose2d(128,64,kernel_size=3,stride=1,padding=1)\n",
    "               \n",
    "            nn.MaxUnpool2d(kernel_size=2, stride=2)\n",
    "            nn.ReLU()\n",
    "            nn.ConvTranspose2d(64,64,kernel_size=3,stride=1,padding=1)\n",
    "            nn.ReLU()\n",
    "            nn.ConvTranspose2d(64,3,kernel_size=3,stride=1,padding=1)\n",
    "        )\n",
    "        \n",
    "    def forward(self, x)"
   ]
  }
 ],
 "metadata": {
  "kernelspec": {
   "display_name": "PyTorch",
   "language": "python",
   "name": "pytorch"
  },
  "language_info": {
   "codemirror_mode": {
    "name": "ipython",
    "version": 3
   },
   "file_extension": ".py",
   "mimetype": "text/x-python",
   "name": "python",
   "nbconvert_exporter": "python",
   "pygments_lexer": "ipython3",
   "version": "3.6.6"
  }
 },
 "nbformat": 4,
 "nbformat_minor": 2
}
