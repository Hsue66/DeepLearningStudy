{
 "cells": [
  {
   "cell_type": "code",
   "execution_count": 1,
   "metadata": {},
   "outputs": [],
   "source": [
    "import torch\n",
    "import torch.nn as nn\n",
    "import torch.nn.functional as F\n",
    "\n",
    "import torchvision\n",
    "import torchvision.transforms as transforms\n",
    "\n",
    "import torch.optim as optim\n",
    "\n",
    "import matplotlib.pyplot as plt\n",
    "import numpy as np\n",
    "\n",
    "import os.path"
   ]
  },
  {
   "cell_type": "code",
   "execution_count": 2,
   "metadata": {},
   "outputs": [
    {
     "name": "stdout",
     "output_type": "stream",
     "text": [
      "Downloading http://yann.lecun.com/exdb/mnist/train-images-idx3-ubyte.gz\n",
      "Downloading http://yann.lecun.com/exdb/mnist/train-labels-idx1-ubyte.gz\n",
      "Downloading http://yann.lecun.com/exdb/mnist/t10k-images-idx3-ubyte.gz\n",
      "Downloading http://yann.lecun.com/exdb/mnist/t10k-labels-idx1-ubyte.gz\n",
      "Processing...\n",
      "Done!\n"
     ]
    }
   ],
   "source": [
    "transform = transforms.Compose([transforms.ToTensor(),transforms.Normalize((0.5,0.5,0.5),(0.5,0.5,0.5))])\n",
    "\n",
    "trainset = torchvision.datasets.MNIST('../data',train=True,download=True, transform=transform)\n",
    "trainloader = torch.utils.data.DataLoader(trainset, batch_size=1, shuffle=True)\n",
    "\n",
    "testset = torchvision.datasets.MNIST('../data',train=False,download=True, transform=transform)\n",
    "testloader = torch.utils.data.DataLoader(testset, batch_size=1, shuffle=True)"
   ]
  },
  {
   "cell_type": "code",
   "execution_count": 3,
   "metadata": {},
   "outputs": [],
   "source": [
    "class Generator(nn.Module):\n",
    "    def __init__(self):\n",
    "        super(Generator,self).__init__()\n",
    "        self.linear1 = nn.Linear(196,392)\n",
    "        self.linear2 = nn.Linear(392,784)\n",
    "        \n",
    "    def forward(self,x):\n",
    "        x = F.relu(self.linear1(x))\n",
    "        x = torch.sigmoid(self.linear2(x))\n",
    "        return x\n",
    "    \n",
    "Gnr = Generator()"
   ]
  },
  {
   "cell_type": "code",
   "execution_count": 4,
   "metadata": {},
   "outputs": [],
   "source": [
    "class Discriminator(nn.Module):\n",
    "    def __init__(self):\n",
    "        super(Discriminator, self).__init__()\n",
    "        self.linear1 = nn.Linear(784,392)\n",
    "        self.linear2 = nn.Linear(392,196)\n",
    "        self.linear3 = nn.Linear(196,1)\n",
    "    \n",
    "    def forward(self,x):\n",
    "        x = F.relu(self.linear1(x))\n",
    "        x = F.relu(self.linear2(x))\n",
    "        x = torch.sigmoid(self.linear3(x))\n",
    "        return x\n",
    "    \n",
    "Dsc = Discriminator()"
   ]
  },
  {
   "cell_type": "code",
   "execution_count": 5,
   "metadata": {},
   "outputs": [],
   "source": [
    "criterion = nn.BCELoss()\n",
    "Gnr_optimizer = optim.Adam(Gnr.parameters(), lr=0.001)\n",
    "Dsc_optimizer = optim.Adam(Dsc.parameters(), lr=0.001)"
   ]
  },
  {
   "cell_type": "code",
   "execution_count": 6,
   "metadata": {},
   "outputs": [
    {
     "name": "stdout",
     "output_type": "stream",
     "text": [
      "cuda:0\n"
     ]
    },
    {
     "data": {
      "text/plain": [
       "Discriminator(\n",
       "  (linear1): Linear(in_features=784, out_features=392, bias=True)\n",
       "  (linear2): Linear(in_features=392, out_features=196, bias=True)\n",
       "  (linear3): Linear(in_features=196, out_features=1, bias=True)\n",
       ")"
      ]
     },
     "execution_count": 6,
     "metadata": {},
     "output_type": "execute_result"
    }
   ],
   "source": [
    "device = torch.device(\"cuda:0\" if torch.cuda.is_available() else \"cpu\")\n",
    "print(device)\n",
    "\n",
    "Gnr.to(device)\n",
    "Dsc.to(device)"
   ]
  },
  {
   "cell_type": "code",
   "execution_count": 7,
   "metadata": {},
   "outputs": [
    {
     "name": "stdout",
     "output_type": "stream",
     "text": [
      "0\n"
     ]
    },
    {
     "name": "stderr",
     "output_type": "stream",
     "text": [
      "/home/hsue/anaconda3/lib/python3.6/site-packages/torch/nn/functional.py:1594: UserWarning: Using a target size (torch.Size([1])) that is different to the input size (torch.Size([1, 1])) is deprecated. Please ensure they have the same size.\n",
      "  \"Please ensure they have the same size.\".format(target.size(), input.size()))\n"
     ]
    },
    {
     "name": "stdout",
     "output_type": "stream",
     "text": [
      "0 dsc finish\n",
      "0 gnr finish\n",
      "1\n",
      "1 dsc finish\n",
      "1 gnr finish\n",
      "2\n",
      "2 dsc finish\n",
      "2 gnr finish\n",
      "3\n",
      "3 dsc finish\n",
      "3 gnr finish\n",
      "4\n",
      "4 dsc finish\n",
      "4 gnr finish\n",
      "5\n",
      "5 dsc finish\n",
      "5 gnr finish\n",
      "6\n",
      "6 dsc finish\n",
      "6 gnr finish\n",
      "7\n",
      "7 dsc finish\n",
      "7 gnr finish\n",
      "8\n",
      "8 dsc finish\n",
      "8 gnr finish\n",
      "9\n",
      "9 dsc finish\n",
      "9 gnr finish\n"
     ]
    },
    {
     "data": {
      "image/png": "[encoded data removed]",
      "text/plain": [
       "<Figure size 432x288 with 1 Axes>"
      ]
     },
     "metadata": {},
     "output_type": "display_data"
    },
    {
     "data": {
      "image/png": "[encoded data removed]",
      "text/plain": [
       "<Figure size 432x288 with 1 Axes>"
      ]
     },
     "metadata": {},
     "output_type": "display_data"
    },
    {
     "data": {
      "image/png": "[encoded data removed]",
      "text/plain": [
       "<Figure size 432x288 with 1 Axes>"
      ]
     },
     "metadata": {},
     "output_type": "display_data"
    },
    {
     "data": {
      "image/png": "[encoded data removed]",
      "text/plain": [
       "<Figure size 432x288 with 1 Axes>"
      ]
     },
     "metadata": {},
     "output_type": "display_data"
    },
    {
     "data": {
      "image/png": "[encoded data removed]",
      "text/plain": [
       "<Figure size 432x288 with 1 Axes>"
      ]
     },
     "metadata": {},
     "output_type": "display_data"
    },
    {
     "data": {
      "image/png": "[encoded data removed]",
      "text/plain": [
       "<Figure size 432x288 with 1 Axes>"
      ]
     },
     "metadata": {},
     "output_type": "display_data"
    },
    {
     "data": {
      "image/png": "[encoded data removed]",
      "text/plain": [
       "<Figure size 432x288 with 1 Axes>"
      ]
     },
     "metadata": {},
     "output_type": "display_data"
    },
    {
     "data": {
      "image/png": "[encoded data removed]",
      "text/plain": [
       "<Figure size 432x288 with 1 Axes>"
      ]
     },
     "metadata": {},
     "output_type": "display_data"
    },
    {
     "data": {
      "image/png": "[encoded data removed]",
      "text/plain": [
       "<Figure size 432x288 with 1 Axes>"
      ]
     },
     "metadata": {},
     "output_type": "display_data"
    },
    {
     "data": {
      "image/png": "[encoded data removed]",
      "text/plain": [
       "<Figure size 432x288 with 1 Axes>"
      ]
     },
     "metadata": {},
     "output_type": "display_data"
    }
   ],
   "source": [
    "def preprocess(img):\n",
    "    img = img[0]\n",
    "    img = img.view(1,-1)\n",
    "    return img\n",
    "\n",
    "def noiseInput():\n",
    "    return torch.randn(196)\n",
    "\n",
    "if os.path.isfile('./gen1.pth'):\n",
    "    Gnr.load_state_dict(torch.load('./gen1.pth'))\n",
    "if os.path.isfile('./dsc1.pth'):\n",
    "    Dsc.load_state_dict(torch.load('./dsc1.pth'))\n",
    "        \n",
    "for epoch in range(10):\n",
    "    print(epoch)\n",
    "    for i, data in enumerate(testloader, 0):\n",
    "        inputs, labels = data\n",
    "        inputs = preprocess(inputs).to(device)\n",
    "\n",
    "        Dsc.zero_grad()\n",
    "        dsc_real_result = Dsc(inputs)\n",
    "        dsc_real_error = criterion(dsc_real_result, torch.ones(1).to(device))\n",
    "        #dsc_real_error.backward()\n",
    "\n",
    "        noise = noiseInput().to(device)\n",
    "        gnr_fake = Gnr(noise)\n",
    "        dsc_fake_result = Dsc(gnr_fake)\n",
    "        dsc_fake_error = criterion(dsc_fake_result,torch.zeros(1).to(device))\n",
    "        #dsc_fake_error.backward()\n",
    "        \n",
    "        loss = dsc_real_error + dsc_fake_error\n",
    "        loss.backward()\n",
    "        Dsc_optimizer.step()\n",
    "    print(epoch,'dsc finish')\n",
    "    \n",
    "    g_loop = i\n",
    "    for g in range(g_loop):\n",
    "        Gnr.zero_grad()\n",
    "        noise = noiseInput().to(device)\n",
    "        gnr_fake = Gnr(noise)\n",
    "        dsc_gnr_fake_result = Dsc(gnr_fake)\n",
    "        gnr_error = criterion(dsc_gnr_fake_result, torch.ones(1).to(device))\n",
    "        gnr_error.backward()\n",
    "        Gnr_optimizer.step()\n",
    "    print(epoch,'gnr finish')\n",
    "    \n",
    "    torch.save(Gnr.state_dict(),'./gen1.pth')\n",
    "    torch.save(Dsc.state_dict(),'./dsc1.pth')\n",
    "    \n",
    "    plt.figure(epoch)\n",
    "    noise = noiseInput().to(device)\n",
    "    gnr_fake = Gnr(noise)\n",
    "    fake = gnr_fake.cpu()\n",
    "    fake_img = fake.reshape((28,28)).detach().numpy()\n",
    "    plt.imshow(fake_img, cmap='gray')\n"
   ]
  },
  {
   "cell_type": "code",
   "execution_count": null,
   "metadata": {},
   "outputs": [],
   "source": []
  },
  {
   "cell_type": "code",
   "execution_count": null,
   "metadata": {},
   "outputs": [],
   "source": []
  }
 ],
 "metadata": {
  "kernelspec": {
   "display_name": "PyTorch",
   "language": "python",
   "name": "pytorch"
  },
  "language_info": {
   "codemirror_mode": {
    "name": "ipython",
    "version": 3
   },
   "file_extension": ".py",
   "mimetype": "text/x-python",
   "name": "python",
   "nbconvert_exporter": "python",
   "pygments_lexer": "ipython3",
   "version": "3.6.5"
  }
 },
 "nbformat": 4,
 "nbformat_minor": 2
}
