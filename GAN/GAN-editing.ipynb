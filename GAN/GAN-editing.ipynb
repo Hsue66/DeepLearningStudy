{
 "cells": [
  {
   "cell_type": "code",
   "execution_count": 1,
   "metadata": {},
   "outputs": [],
   "source": [
    "import torch\n",
    "import torch.nn as nn\n",
    "import torch.nn.functional as F\n",
    "\n",
    "import torchvision\n",
    "import torchvision.transforms as transforms\n",
    "\n",
    "import torch.optim as optim\n",
    "\n",
    "import matplotlib.pyplot as plt\n",
    "import numpy as np\n",
    "\n",
    "import os.path"
   ]
  },
  {
   "cell_type": "code",
   "execution_count": 2,
   "metadata": {},
   "outputs": [],
   "source": [
    "batch_size = 100\n",
    "transform = transforms.Compose([transforms.ToTensor(),transforms.Normalize((0.5,0.5,0.5),(0.5,0.5,0.5))])\n",
    "\n",
    "trainset = torchvision.datasets.MNIST('../data',train=True,download=True, transform=transform)\n",
    "trainloader = torch.utils.data.DataLoader(trainset, batch_size=batch_size, shuffle=True)"
   ]
  },
  {
   "cell_type": "code",
   "execution_count": 3,
   "metadata": {},
   "outputs": [],
   "source": [
    "class Generator(nn.Module):\n",
    "    def __init__(self):\n",
    "        super(Generator,self).__init__()\n",
    "        self.features = nn.Sequential(\n",
    "            nn.Linear(196,256),\n",
    "            nn.ReLU(),\n",
    "            nn.Linear(256,512),\n",
    "            nn.ReLU(),\n",
    "            nn.Linear(512,1024),\n",
    "            nn.ReLU(),\n",
    "            nn.Linear(1024,784),\n",
    "            nn.Sigmoid()\n",
    "        )\n",
    "        \n",
    "    def forward(self,x):\n",
    "        x = x.view(batch_size, 196)\n",
    "        x = self.features(x)\n",
    "        return x\n",
    "    \n",
    "Gnr = Generator()"
   ]
  },
  {
   "cell_type": "code",
   "execution_count": 4,
   "metadata": {},
   "outputs": [],
   "source": [
    "class Discriminator(nn.Module):\n",
    "    def __init__(self):\n",
    "        super(Discriminator, self).__init__()\n",
    "        self.features = nn.Sequential(\n",
    "            nn.Linear(784,1024),\n",
    "            nn.ReLU(),\n",
    "            nn.Linear(1024,512),\n",
    "            nn.ReLU(),\n",
    "            nn.Linear(512,256),\n",
    "            nn.ReLU(),\n",
    "            nn.Linear(256,196),\n",
    "            nn.ReLU(),\n",
    "            nn.Linear(196,1),\n",
    "            nn.Sigmoid()\n",
    "        )\n",
    "    \n",
    "    def forward(self,x):\n",
    "        x = x.view(batch_size, 784)\n",
    "        x = self.features(x)\n",
    "        x = x.view(batch_size, -1)\n",
    "        return x\n",
    "    \n",
    "Dsc = Discriminator()"
   ]
  },
  {
   "cell_type": "code",
   "execution_count": 5,
   "metadata": {},
   "outputs": [],
   "source": [
    "criterion = nn.BCELoss()\n",
    "Gnr_optimizer = optim.Adam(Gnr.parameters(), lr=0.0001)\n",
    "Dsc_optimizer = optim.Adam(Dsc.parameters(), lr=0.0001)"
   ]
  },
  {
   "cell_type": "code",
   "execution_count": 6,
   "metadata": {},
   "outputs": [
    {
     "name": "stdout",
     "output_type": "stream",
     "text": [
      "cuda:0\n"
     ]
    },
    {
     "data": {
      "text/plain": [
       "Discriminator(\n",
       "  (features): Sequential(\n",
       "    (0): Linear(in_features=784, out_features=1024, bias=True)\n",
       "    (1): ReLU()\n",
       "    (2): Linear(in_features=1024, out_features=512, bias=True)\n",
       "    (3): ReLU()\n",
       "    (4): Linear(in_features=512, out_features=256, bias=True)\n",
       "    (5): ReLU()\n",
       "    (6): Linear(in_features=256, out_features=196, bias=True)\n",
       "    (7): ReLU()\n",
       "    (8): Linear(in_features=196, out_features=1, bias=True)\n",
       "    (9): Sigmoid()\n",
       "  )\n",
       ")"
      ]
     },
     "execution_count": 6,
     "metadata": {},
     "output_type": "execute_result"
    }
   ],
   "source": [
    "device = torch.device(\"cuda:0\" if torch.cuda.is_available() else \"cpu\")\n",
    "print(device)\n",
    "\n",
    "Gnr.to(device)\n",
    "Dsc.to(device)"
   ]
  },
  {
   "cell_type": "code",
   "execution_count": 7,
   "metadata": {},
   "outputs": [],
   "source": [
    "def noiseInput():\n",
    "    return torch.randn(batch_size, 196)\n",
    "\n",
    "test_noise = noiseInput().to(device)\n",
    "epoch_len = 500"
   ]
  },
  {
   "cell_type": "code",
   "execution_count": null,
   "metadata": {},
   "outputs": [
    {
     "name": "stdout",
     "output_type": "stream",
     "text": [
      "0\n"
     ]
    },
    {
     "name": "stderr",
     "output_type": "stream",
     "text": [
      "/home/hsue/anaconda3/lib/python3.6/site-packages/torch/nn/functional.py:1594: UserWarning: Using a target size (torch.Size([100])) that is different to the input size (torch.Size([100, 1])) is deprecated. Please ensure they have the same size.\n",
      "  \"Please ensure they have the same size.\".format(target.size(), input.size()))\n"
     ]
    },
    {
     "name": "stdout",
     "output_type": "stream",
     "text": [
      "1\n",
      "2\n",
      "3\n",
      "4\n",
      "5\n"
     ]
    }
   ],
   "source": [
    "if os.path.isfile('./save/gen.pth'):\n",
    "    Gnr.load_state_dict(torch.load('./save/gen.pth'))\n",
    "if os.path.isfile('./save/dsc.pth'):\n",
    "    Dsc.load_state_dict(torch.load('./save/dsc.pth'))\n",
    "    \n",
    "for epoch in range(epoch_len):\n",
    "    print(epoch)\n",
    "    for i, data in enumerate(trainloader):\n",
    "        inputs, _ = data\n",
    "        inputs = inputs.to(device)\n",
    "        \n",
    "        Dsc.zero_grad()\n",
    "        dsc_real_result = Dsc(inputs)\n",
    "        dsc_real_error = criterion(dsc_real_result, torch.ones(batch_size).to(device))\n",
    "\n",
    "        noise = noiseInput().to(device)\n",
    "        gnr_fake = Gnr(noise)\n",
    "        dsc_fake_result = Dsc(gnr_fake)\n",
    "        dsc_fake_error = criterion(dsc_fake_result,torch.zeros(batch_size).to(device))\n",
    "        \n",
    "        loss = dsc_real_error + dsc_fake_error\n",
    "        loss.backward()\n",
    "        Dsc_optimizer.step()\n",
    "        \n",
    "        Gnr.zero_grad()\n",
    "        noise = noiseInput().to(device)\n",
    "        gnr_fake = Gnr(noise)\n",
    "        dsc_gnr_fake_result = Dsc(gnr_fake)\n",
    "        gnr_error = criterion(dsc_gnr_fake_result, torch.ones(batch_size).to(device))\n",
    "        gnr_error.backward()\n",
    "        Gnr_optimizer.step()\n",
    "        \n",
    "        if epoch%5 == 0 and i % 1000 == 0:\n",
    "            plt.figure(epoch, figsize=(10,1))\n",
    "            gnr_fake = Gnr(test_noise)\n",
    "            \n",
    "            fake = gnr_fake.data.cpu()\n",
    "            fake_img = fake.numpy().reshape(-1,28,28)\n",
    "            \n",
    "            for n in range(10):\n",
    "                plt.subplot(1,10,n+1)\n",
    "                plt.imshow(fake_img[n], cmap='Greys')\n",
    "            plt.savefig('./result/result_r'+str(epoch)+'_'+str(int(i/1000))+'.jpg')\n",
    "            \n",
    "    torch.save(Gnr.state_dict(),'./save/gen.pth')\n",
    "    torch.save(Dsc.state_dict(),'./save/dsc.pth')\n",
    "    "
   ]
  },
  {
   "cell_type": "code",
   "execution_count": null,
   "metadata": {},
   "outputs": [],
   "source": []
  }
 ],
 "metadata": {
  "kernelspec": {
   "display_name": "PyTorch",
   "language": "python",
   "name": "pytorch"
  },
  "language_info": {
   "codemirror_mode": {
    "name": "ipython",
    "version": 3
   },
   "file_extension": ".py",
   "mimetype": "text/x-python",
   "name": "python",
   "nbconvert_exporter": "python",
   "pygments_lexer": "ipython3",
   "version": "3.6.5"
  }
 },
 "nbformat": 4,
 "nbformat_minor": 2
}
