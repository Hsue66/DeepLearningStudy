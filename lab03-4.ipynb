{
 "cells": [
  {
   "cell_type": "code",
   "execution_count": 1,
   "metadata": {
    "collapsed": true
   },
   "outputs": [],
   "source": [
    "import tensorflow as tf"
   ]
  },
  {
   "cell_type": "code",
   "execution_count": 2,
   "metadata": {
    "collapsed": false
   },
   "outputs": [],
   "source": [
    "X = [1,2,3]\n",
    "Y = [1,2,3]\n",
    "\n",
    "W = tf.Variable(5.0)\n",
    "\n",
    "hypothesis = W*X\n",
    "\n",
    "gradient = tf.reduce_mean((W*X-Y)*X)*2\n",
    "cost = tf.reduce_mean(tf.square(hypothesis-Y))\n",
    "\n",
    "optimizer = tf.train.GradientDescentOptimizer(learning_rate=0.1)\n",
    "\n",
    "# gradient 수정가능\n",
    "gvs = optimizer.compute_gradients(cost)\n",
    "apply_gradients = optimizer.apply_gradients(gvs)"
   ]
  },
  {
   "cell_type": "code",
   "execution_count": 3,
   "metadata": {
    "collapsed": false
   },
   "outputs": [
    {
     "name": "stdout",
     "output_type": "stream",
     "text": [
      "0 [37.333332, 5.0, [(37.333332, 5.0)]]\n",
      "1 [2.4888897, 1.2666668, [(2.4888897, 1.2666668)]]\n",
      "2 [0.16592591, 1.0177778, [(0.16592591, 1.0177778)]]\n",
      "3 [0.011061668, 1.0011852, [(0.011061668, 1.0011852)]]\n",
      "4 [0.00073742867, 1.000079, [(0.00073742867, 1.000079)]]\n",
      "5 [4.8955284e-05, 1.0000052, [(4.8955284e-05, 1.0000052)]]\n",
      "6 [3.0994415e-06, 1.0000004, [(3.0994415e-06, 1.0000004)]]\n",
      "7 [0.0, 1.0, [(0.0, 1.0)]]\n",
      "8 [0.0, 1.0, [(0.0, 1.0)]]\n",
      "9 [0.0, 1.0, [(0.0, 1.0)]]\n"
     ]
    }
   ],
   "source": [
    "sess = tf.Session()\n",
    "\n",
    "sess.run(tf.global_variables_initializer())\n",
    "\n",
    "for step in range(10):\n",
    "    # 직접 미분한 gradient 와 optimizer사용한것 비교\n",
    "    print step, sess.run([gradient, W, gvs])\n",
    "    sess.run(apply_gradients)"
   ]
  },
  {
   "cell_type": "code",
   "execution_count": null,
   "metadata": {
    "collapsed": true
   },
   "outputs": [],
   "source": []
  }
 ],
 "metadata": {
  "kernelspec": {
   "display_name": "Python 2",
   "language": "python",
   "name": "python2"
  },
  "language_info": {
   "codemirror_mode": {
    "name": "ipython",
    "version": 2
   },
   "file_extension": ".py",
   "mimetype": "text/x-python",
   "name": "python",
   "nbconvert_exporter": "python",
   "pygments_lexer": "ipython2",
   "version": "2.7.12"
  }
 },
 "nbformat": 4,
 "nbformat_minor": 2
}
